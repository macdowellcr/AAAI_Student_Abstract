{
 "cells": [
  {
   "cell_type": "code",
   "execution_count": 2,
   "id": "fa955489",
   "metadata": {},
   "outputs": [],
   "source": [
    "import pandas as pd\n",
    "\n",
    "df = pd.read_csv('cleaned_data.csv')"
   ]
  },
  {
   "cell_type": "code",
   "execution_count": 3,
   "id": "462feed4",
   "metadata": {},
   "outputs": [
    {
     "name": "stdout",
     "output_type": "stream",
     "text": [
      "Training set shape (X_train, y_train): (128379, 55) (128379, 1)\n",
      "Testing set shape (X_test, y_test): (32095, 55) (32095, 1)\n"
     ]
    }
   ],
   "source": [
    "from sklearn.model_selection import train_test_split\n",
    "\n",
    "# Identify feature and label columns\n",
    "label_columns = [col for col in df.columns if col.startswith('attack_cat')]\n",
    "feature_columns = [col for col in df.columns if not col.startswith('attack_cat')]\n",
    "\n",
    "# Separate features (X) and labels (y)\n",
    "X = df[feature_columns]\n",
    "y = df[label_columns]\n",
    "\n",
    "# Split the data into training and testing sets (e.g., 80% train, 20% test)\n",
    "X_train, X_test, y_train, y_test = train_test_split(X, y, test_size=0.2, random_state=42)\n",
    "\n",
    "print(\"Training set shape (X_train, y_train):\", X_train.shape, y_train.shape)\n",
    "print(\"Testing set shape (X_test, y_test):\", X_test.shape, y_test.shape)"
   ]
  },
  {
   "cell_type": "code",
   "execution_count": 4,
   "id": "3d78c3e9",
   "metadata": {},
   "outputs": [],
   "source": [
    "# Import necessary libraries for data handling, analysis, and visualization\n",
    "import pandas as pd\n",
    "import numpy as np\n",
    "import matplotlib.pyplot as plt\n",
    "import seaborn as sns\n",
    "\n",
    "# Import scikit-learn modules for preprocessing, model selection, and metrics\n",
    "from sklearn.model_selection import train_test_split, cross_val_score, GridSearchCV\n",
    "from sklearn.preprocessing import StandardScaler\n",
    "from sklearn.metrics import accuracy_score, precision_score, recall_score, f1_score, confusion_matrix, classification_report\n",
    "\n",
    "# Import the classifier models\n",
    "from sklearn.linear_model import LogisticRegression\n",
    "from sklearn.neighbors import KNeighborsClassifier\n",
    "from sklearn.svm import SVC\n",
    "from sklearn.naive_bayes import GaussianNB\n",
    "from sklearn.tree import DecisionTreeClassifier\n",
    "from sklearn.ensemble import RandomForestClassifier, GradientBoostingClassifier"
   ]
  },
  {
   "cell_type": "code",
   "execution_count": 5,
   "id": "e7ba1145",
   "metadata": {},
   "outputs": [
    {
     "name": "stderr",
     "output_type": "stream",
     "text": [
      "c:\\Users\\macdo\\anaconda3\\envs\\ml_supervised_20250810\\Lib\\site-packages\\sklearn\\neighbors\\_classification.py:239: DataConversionWarning: A column-vector y was passed when a 1d array was expected. Please change the shape of y to (n_samples,), for example using ravel().\n",
      "  return self._fit(X, y)\n"
     ]
    },
    {
     "name": "stdout",
     "output_type": "stream",
     "text": [
      "K-Nearest Neighbors Performance:\n",
      "Accuracy: 0.8740\n",
      "Weighted F1-Score: 0.8753\n",
      "\n",
      "Classification Report:\n",
      "                precision    recall  f1-score   support\n",
      "\n",
      "      Analysis       0.10      0.23      0.14       358\n",
      "      Backdoor       0.10      0.13      0.11       297\n",
      "           DoS       0.35      0.21      0.27      1070\n",
      "      Exploits       0.79      0.82      0.81      5526\n",
      "       Fuzzers       0.84      0.86      0.85      4048\n",
      "       Generic       0.96      0.82      0.89      1472\n",
      "        Normal       1.00      0.99      1.00     17114\n",
      "Reconnaissance       0.71      0.71      0.71      1889\n",
      "     Shellcode       0.57      0.41      0.48       289\n",
      "         Worms       0.67      0.06      0.11        32\n",
      "\n",
      "      accuracy                           0.87     32095\n",
      "     macro avg       0.61      0.52      0.54     32095\n",
      "  weighted avg       0.88      0.87      0.88     32095\n",
      "\n"
     ]
    }
   ],
   "source": [
    "# Instantiate the K-Nearest Neighbors classifier\n",
    "# n_neighbors=5 is a common starting point\n",
    "knn = KNeighborsClassifier(n_neighbors=5)\n",
    "\n",
    "# Train the model on the original, unscaled training data\n",
    "knn.fit(X_train, y_train)\n",
    "\n",
    "# Make predictions on the unscaled test data\n",
    "y_pred_knn = knn.predict(X_test)\n",
    "\n",
    "# Evaluate the model\n",
    "print(\"K-Nearest Neighbors Performance:\")\n",
    "print(f\"Accuracy: {accuracy_score(y_test, y_pred_knn):.4f}\")\n",
    "print(f\"Weighted F1-Score: {f1_score(y_test, y_pred_knn, average='weighted'):.4f}\")\n",
    "print(\"\\nClassification Report:\")\n",
    "# Set zero_division=0 to avoid warnings for labels with no predicted samples\n",
    "print(classification_report(y_test, y_pred_knn, zero_division=0))"
   ]
  },
  {
   "cell_type": "code",
   "execution_count": 6,
   "id": "6331cf96",
   "metadata": {},
   "outputs": [
    {
     "name": "stdout",
     "output_type": "stream",
     "text": [
      "Decision Tree Performance:\n",
      "Accuracy: 0.8895\n",
      "Weighted F1-Score: 0.8883\n",
      "\n",
      "Classification Report:\n",
      "                precision    recall  f1-score   support\n",
      "\n",
      "      Analysis       0.31      0.27      0.29       358\n",
      "      Backdoor       0.28      0.21      0.24       297\n",
      "           DoS       0.24      0.24      0.24      1070\n",
      "      Exploits       0.81      0.83      0.82      5526\n",
      "       Fuzzers       0.81      0.90      0.85      4048\n",
      "       Generic       0.95      0.84      0.90      1472\n",
      "        Normal       1.00      1.00      1.00     17114\n",
      "Reconnaissance       0.87      0.73      0.79      1889\n",
      "     Shellcode       0.47      0.51      0.49       289\n",
      "         Worms       0.40      0.06      0.11        32\n",
      "\n",
      "      accuracy                           0.89     32095\n",
      "     macro avg       0.61      0.56      0.57     32095\n",
      "  weighted avg       0.89      0.89      0.89     32095\n",
      "\n"
     ]
    }
   ],
   "source": [
    "# Instantiate the Decision Tree classifier\n",
    "# Setting a max_depth helps to prevent the tree from overfitting\n",
    "tree = DecisionTreeClassifier(max_depth=10, random_state=42)\n",
    "\n",
    "# Train the model on the original, unscaled training data\n",
    "tree.fit(X_train, y_train)\n",
    "\n",
    "# Make predictions on the unscaled test data\n",
    "y_pred_tree = tree.predict(X_test)\n",
    "\n",
    "# Evaluate the model\n",
    "print(\"Decision Tree Performance:\")\n",
    "print(f\"Accuracy: {accuracy_score(y_test, y_pred_tree):.4f}\")\n",
    "print(f\"Weighted F1-Score: {f1_score(y_test, y_pred_tree, average='weighted'):.4f}\")\n",
    "print(\"\\nClassification Report:\")\n",
    "print(classification_report(y_test, y_pred_tree))"
   ]
  },
  {
   "cell_type": "code",
   "execution_count": 7,
   "id": "3be8864e",
   "metadata": {},
   "outputs": [
    {
     "name": "stdout",
     "output_type": "stream",
     "text": [
      "Random Forest Performance:\n",
      "Accuracy: 0.8983\n",
      "Weighted F1-Score: 0.8934\n",
      "\n",
      "Classification Report:\n",
      "                precision    recall  f1-score   support\n",
      "\n",
      "      Analysis       0.24      0.20      0.22       358\n",
      "      Backdoor       0.17      0.15      0.16       297\n",
      "           DoS       0.38      0.22      0.28      1070\n",
      "      Exploits       0.80      0.87      0.83      5526\n",
      "       Fuzzers       0.87      0.91      0.89      4048\n",
      "       Generic       0.94      0.87      0.90      1472\n",
      "        Normal       1.00      1.00      1.00     17114\n",
      "Reconnaissance       0.75      0.76      0.76      1889\n",
      "     Shellcode       0.58      0.54      0.56       289\n",
      "         Worms       0.60      0.28      0.38        32\n",
      "\n",
      "      accuracy                           0.90     32095\n",
      "     macro avg       0.63      0.58      0.60     32095\n",
      "  weighted avg       0.89      0.90      0.89     32095\n",
      "\n"
     ]
    }
   ],
   "source": [
    "# Instantiate the Random Forest classifier\n",
    "# n_estimators is the number of trees in the forest. n_jobs=-1 uses all available cores.\n",
    "rf = RandomForestClassifier(n_estimators=100, random_state=42, n_jobs=-1)\n",
    "\n",
    "# Train the model on the training data\n",
    "# .values.ravel() is used to convert the y_train DataFrame to a 1D array, which is expected by the fit method\n",
    "rf.fit(X_train, y_train.values.ravel())\n",
    "\n",
    "# Make predictions on the test data\n",
    "y_pred_rf = rf.predict(X_test)\n",
    "\n",
    "# Evaluate the model\n",
    "print(\"Random Forest Performance:\")\n",
    "print(f\"Accuracy: {accuracy_score(y_test, y_pred_rf):.4f}\")\n",
    "print(f\"Weighted F1-Score: {f1_score(y_test, y_pred_rf, average='weighted'):.4f}\")\n",
    "print(\"\\nClassification Report:\")\n",
    "print(classification_report(y_test, y_pred_rf))"
   ]
  }
 ],
 "metadata": {
  "kernelspec": {
   "display_name": "ml_supervised_20250810",
   "language": "python",
   "name": "python3"
  },
  "language_info": {
   "codemirror_mode": {
    "name": "ipython",
    "version": 3
   },
   "file_extension": ".py",
   "mimetype": "text/x-python",
   "name": "python",
   "nbconvert_exporter": "python",
   "pygments_lexer": "ipython3",
   "version": "3.11.11"
  }
 },
 "nbformat": 4,
 "nbformat_minor": 5
}
